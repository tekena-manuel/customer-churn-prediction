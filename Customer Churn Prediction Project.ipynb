{
 "cells": [
  {
   "cell_type": "code",
   "execution_count": 12,
   "id": "92d1f7f9",
   "metadata": {},
   "outputs": [],
   "source": [
    "import pandas as pd\n",
    "import numpy as np\n",
    "from sklearn.preprocessing import LabelEncoder\n",
    "from sklearn.model_selection import train_test_split\n",
    "\n",
    "from sklearn.linear_model import LogisticRegression\n",
    "from sklearn.metrics import accuracy_score, classification_report\n",
    "import matplotlib.pyplot as plt\n",
    "import seaborn as sns"
   ]
  },
  {
   "cell_type": "code",
   "execution_count": 2,
   "id": "f0687b87",
   "metadata": {},
   "outputs": [
    {
     "name": "stdout",
     "output_type": "stream",
     "text": [
      "Dataset Shape: (7043, 21)\n",
      "\n",
      "First 5 Rows:\n",
      "   customerID  gender  SeniorCitizen Partner Dependents  tenure PhoneService  \\\n",
      "0  7590-VHVEG  Female              0     Yes         No       1           No   \n",
      "1  5575-GNVDE    Male              0      No         No      34          Yes   \n",
      "2  3668-QPYBK    Male              0      No         No       2          Yes   \n",
      "3  7795-CFOCW    Male              0      No         No      45           No   \n",
      "4  9237-HQITU  Female              0      No         No       2          Yes   \n",
      "\n",
      "      MultipleLines InternetService OnlineSecurity  ... DeviceProtection  \\\n",
      "0  No phone service             DSL             No  ...               No   \n",
      "1                No             DSL            Yes  ...              Yes   \n",
      "2                No             DSL            Yes  ...               No   \n",
      "3  No phone service             DSL            Yes  ...              Yes   \n",
      "4                No     Fiber optic             No  ...               No   \n",
      "\n",
      "  TechSupport StreamingTV StreamingMovies        Contract PaperlessBilling  \\\n",
      "0          No          No              No  Month-to-month              Yes   \n",
      "1          No          No              No        One year               No   \n",
      "2          No          No              No  Month-to-month              Yes   \n",
      "3         Yes          No              No        One year               No   \n",
      "4          No          No              No  Month-to-month              Yes   \n",
      "\n",
      "               PaymentMethod MonthlyCharges  TotalCharges Churn  \n",
      "0           Electronic check          29.85         29.85    No  \n",
      "1               Mailed check          56.95        1889.5    No  \n",
      "2               Mailed check          53.85        108.15   Yes  \n",
      "3  Bank transfer (automatic)          42.30       1840.75    No  \n",
      "4           Electronic check          70.70        151.65   Yes  \n",
      "\n",
      "[5 rows x 21 columns]\n",
      "\n",
      "Column Info:\n",
      "<class 'pandas.core.frame.DataFrame'>\n",
      "RangeIndex: 7043 entries, 0 to 7042\n",
      "Data columns (total 21 columns):\n",
      " #   Column            Non-Null Count  Dtype  \n",
      "---  ------            --------------  -----  \n",
      " 0   customerID        7043 non-null   object \n",
      " 1   gender            7043 non-null   object \n",
      " 2   SeniorCitizen     7043 non-null   int64  \n",
      " 3   Partner           7043 non-null   object \n",
      " 4   Dependents        7043 non-null   object \n",
      " 5   tenure            7043 non-null   int64  \n",
      " 6   PhoneService      7043 non-null   object \n",
      " 7   MultipleLines     7043 non-null   object \n",
      " 8   InternetService   7043 non-null   object \n",
      " 9   OnlineSecurity    7043 non-null   object \n",
      " 10  OnlineBackup      7043 non-null   object \n",
      " 11  DeviceProtection  7043 non-null   object \n",
      " 12  TechSupport       7043 non-null   object \n",
      " 13  StreamingTV       7043 non-null   object \n",
      " 14  StreamingMovies   7043 non-null   object \n",
      " 15  Contract          7043 non-null   object \n",
      " 16  PaperlessBilling  7043 non-null   object \n",
      " 17  PaymentMethod     7043 non-null   object \n",
      " 18  MonthlyCharges    7043 non-null   float64\n",
      " 19  TotalCharges      7043 non-null   object \n",
      " 20  Churn             7043 non-null   object \n",
      "dtypes: float64(1), int64(2), object(18)\n",
      "memory usage: 1.1+ MB\n",
      "None\n",
      "\n",
      "Missing Values:\n",
      "customerID          0\n",
      "gender              0\n",
      "SeniorCitizen       0\n",
      "Partner             0\n",
      "Dependents          0\n",
      "tenure              0\n",
      "PhoneService        0\n",
      "MultipleLines       0\n",
      "InternetService     0\n",
      "OnlineSecurity      0\n",
      "OnlineBackup        0\n",
      "DeviceProtection    0\n",
      "TechSupport         0\n",
      "StreamingTV         0\n",
      "StreamingMovies     0\n",
      "Contract            0\n",
      "PaperlessBilling    0\n",
      "PaymentMethod       0\n",
      "MonthlyCharges      0\n",
      "TotalCharges        0\n",
      "Churn               0\n",
      "dtype: int64\n"
     ]
    }
   ],
   "source": [
    "# Load the dataset from CSV (update path if needed)\n",
    "df = pd.read_csv('Telco_Customer_Churn.csv')\n",
    "\n",
    "# Basic inspection\n",
    "print(\"Dataset Shape:\", df.shape)\n",
    "print(\"\\nFirst 5 Rows:\")\n",
    "print(df.head())\n",
    "print(\"\\nColumn Info:\")\n",
    "print(df.info())\n",
    "print(\"\\nMissing Values:\")\n",
    "print(df.isnull().sum())\n",
    "\n"
   ]
  },
  {
   "cell_type": "code",
   "execution_count": 3,
   "id": "58dacddb",
   "metadata": {},
   "outputs": [
    {
     "name": "stdout",
     "output_type": "stream",
     "text": [
      "\n",
      "Basic Statistics:\n",
      "       SeniorCitizen       tenure  MonthlyCharges\n",
      "count    7043.000000  7043.000000     7043.000000\n",
      "mean        0.162147    32.371149       64.761692\n",
      "std         0.368612    24.559481       30.090047\n",
      "min         0.000000     0.000000       18.250000\n",
      "25%         0.000000     9.000000       35.500000\n",
      "50%         0.000000    29.000000       70.350000\n",
      "75%         0.000000    55.000000       89.850000\n",
      "max         1.000000    72.000000      118.750000\n",
      "\n",
      "Churn Distribution:\n",
      "No     73.463013\n",
      "Yes    26.536987\n",
      "Name: Churn, dtype: float64\n"
     ]
    }
   ],
   "source": [
    "# Quick stats\n",
    "print(\"\\nBasic Statistics:\")\n",
    "print(df.describe())\n",
    "\n",
    "# Check churn distribution (target variable)\n",
    "print(\"\\nChurn Distribution:\")\n",
    "print(df['Churn'].value_counts(normalize=True) * 100)"
   ]
  },
  {
   "cell_type": "markdown",
   "id": "6502c13c",
   "metadata": {},
   "source": [
    "#### Preprocessing "
   ]
  },
  {
   "cell_type": "code",
   "execution_count": 5,
   "id": "4c650ac9",
   "metadata": {},
   "outputs": [],
   "source": [
    "# Handle missing values in TotalCharges\n",
    "df['TotalCharges'] = pd.to_numeric(df['TotalCharges'], errors='coerce')  # Convert to numeric, invalid to NaN\n",
    "df['TotalCharges'].fillna(df['TotalCharges'].median(), inplace=True)  # Fill NaN with median"
   ]
  },
  {
   "cell_type": "code",
   "execution_count": 6,
   "id": "02c1590b",
   "metadata": {},
   "outputs": [],
   "source": [
    "# Drop customerID (not useful for modeling)\n",
    "df = df.drop('customerID', axis=1)\n"
   ]
  },
  {
   "cell_type": "code",
   "execution_count": 7,
   "id": "fc381c34",
   "metadata": {},
   "outputs": [],
   "source": [
    "# Encode categorical variables\n",
    "le = LabelEncoder()\n",
    "categorical_cols = df.select_dtypes(include='object').columns\n",
    "\n",
    "for col in categorical_cols:\n",
    "    if col == 'Churn':\n",
    "        df[col] = le.fit_transform(df[col])  # Encode target (Churn: Yes=1, No=0)\n",
    "    else:\n",
    "        df = pd.get_dummies(df, columns=[col], drop_first=True)  # One-hot encode other categoricals"
   ]
  },
  {
   "cell_type": "code",
   "execution_count": 8,
   "id": "3dc92768",
   "metadata": {},
   "outputs": [],
   "source": [
    "# Define features (X) and target (y)\n",
    "X = df.drop('Churn', axis=1)\n",
    "y = df['Churn']"
   ]
  },
  {
   "cell_type": "code",
   "execution_count": 9,
   "id": "0ad64256",
   "metadata": {},
   "outputs": [],
   "source": [
    "# Split into training and test sets\n",
    "X_train, X_test, y_train, y_test = train_test_split(X, y, test_size=0.2, random_state=42)"
   ]
  },
  {
   "cell_type": "code",
   "execution_count": 10,
   "id": "c739718b",
   "metadata": {},
   "outputs": [
    {
     "name": "stdout",
     "output_type": "stream",
     "text": [
      "Training Features Shape: (5634, 30)\n",
      "Test Features Shape: (1409, 30)\n",
      "Training Target Shape: (5634,)\n",
      "Test Target Shape: (1409,)\n"
     ]
    }
   ],
   "source": [
    "# Verify shapes\n",
    "print(\"Training Features Shape:\", X_train.shape)\n",
    "print(\"Test Features Shape:\", X_test.shape)\n",
    "print(\"Training Target Shape:\", y_train.shape)\n",
    "print(\"Test Target Shape:\", y_test.shape)\n"
   ]
  },
  {
   "cell_type": "code",
   "execution_count": 11,
   "id": "b17616c3",
   "metadata": {},
   "outputs": [
    {
     "name": "stdout",
     "output_type": "stream",
     "text": [
      "\n",
      "Sample of Preprocessed Features (first 5 rows):\n",
      "      SeniorCitizen  tenure  MonthlyCharges  TotalCharges  gender_Male  \\\n",
      "2142              0      21           64.85      1336.800            0   \n",
      "1623              0      54           97.20      5129.450            0   \n",
      "6074              0       1           23.45        23.450            1   \n",
      "1362              0       4           70.20       237.950            1   \n",
      "6754              0       0           61.90      1397.475            1   \n",
      "\n",
      "      Partner_Yes  Dependents_Yes  PhoneService_Yes  \\\n",
      "2142            0               1                 1   \n",
      "1623            0               0                 1   \n",
      "6074            1               0                 0   \n",
      "1362            0               0                 1   \n",
      "6754            0               1                 1   \n",
      "\n",
      "      MultipleLines_No phone service  MultipleLines_Yes  ...  \\\n",
      "2142                               0                  0  ...   \n",
      "1623                               0                  1  ...   \n",
      "6074                               1                  0  ...   \n",
      "1362                               0                  0  ...   \n",
      "6754                               0                  1  ...   \n",
      "\n",
      "      StreamingTV_No internet service  StreamingTV_Yes  \\\n",
      "2142                                0                0   \n",
      "1623                                0                1   \n",
      "6074                                0                0   \n",
      "1362                                0                0   \n",
      "6754                                0                0   \n",
      "\n",
      "      StreamingMovies_No internet service  StreamingMovies_Yes  \\\n",
      "2142                                    0                    1   \n",
      "1623                                    0                    1   \n",
      "6074                                    0                    0   \n",
      "1362                                    0                    0   \n",
      "6754                                    0                    0   \n",
      "\n",
      "      Contract_One year  Contract_Two year  PaperlessBilling_Yes  \\\n",
      "2142                  1                  0                     0   \n",
      "1623                  0                  1                     1   \n",
      "6074                  0                  0                     1   \n",
      "1362                  0                  0                     1   \n",
      "6754                  0                  1                     1   \n",
      "\n",
      "      PaymentMethod_Credit card (automatic)  PaymentMethod_Electronic check  \\\n",
      "2142                                      0                               0   \n",
      "1623                                      0                               0   \n",
      "6074                                      0                               1   \n",
      "1362                                      0                               1   \n",
      "6754                                      0                               0   \n",
      "\n",
      "      PaymentMethod_Mailed check  \n",
      "2142                           1  \n",
      "1623                           0  \n",
      "6074                           0  \n",
      "1362                           0  \n",
      "6754                           0  \n",
      "\n",
      "[5 rows x 30 columns]\n"
     ]
    }
   ],
   "source": [
    "# Check a sample of preprocessed features\n",
    "print(\"\\nSample of Preprocessed Features (first 5 rows):\")\n",
    "print(X_train.head())"
   ]
  },
  {
   "cell_type": "markdown",
   "id": "7acb8c69",
   "metadata": {},
   "source": [
    "### Training, Evaluation, and Visualizing the Model"
   ]
  },
  {
   "cell_type": "code",
   "execution_count": 14,
   "id": "f2387210",
   "metadata": {},
   "outputs": [
    {
     "data": {
      "text/plain": [
       "LogisticRegression(max_iter=1000, random_state=42)"
      ]
     },
     "execution_count": 14,
     "metadata": {},
     "output_type": "execute_result"
    }
   ],
   "source": [
    "# Train logistic regression model\n",
    "model = LogisticRegression(max_iter=1000, random_state=42)\n",
    "model.fit(X_train, y_train)"
   ]
  },
  {
   "cell_type": "code",
   "execution_count": 15,
   "id": "7c64923b",
   "metadata": {},
   "outputs": [],
   "source": [
    "# Predict on test set\n",
    "y_pred = model.predict(X_test)"
   ]
  },
  {
   "cell_type": "code",
   "execution_count": 16,
   "id": "c471a645",
   "metadata": {},
   "outputs": [
    {
     "name": "stdout",
     "output_type": "stream",
     "text": [
      "Accuracy: 0.8183108587650816\n",
      "\n",
      "Classification Report:\n",
      "              precision    recall  f1-score   support\n",
      "\n",
      "    No Churn       0.86      0.90      0.88      1036\n",
      "       Churn       0.68      0.58      0.63       373\n",
      "\n",
      "    accuracy                           0.82      1409\n",
      "   macro avg       0.77      0.74      0.75      1409\n",
      "weighted avg       0.81      0.82      0.81      1409\n",
      "\n"
     ]
    }
   ],
   "source": [
    "# Evaluate model\n",
    "print(\"Accuracy:\", accuracy_score(y_test, y_pred))\n",
    "print(\"\\nClassification Report:\")\n",
    "print(classification_report(y_test, y_pred, target_names=['No Churn', 'Churn']))"
   ]
  },
  {
   "cell_type": "code",
   "execution_count": 17,
   "id": "1c3d5029",
   "metadata": {},
   "outputs": [],
   "source": [
    "# Visualize feature importance\n",
    "importance = pd.DataFrame({'Feature': X_train.columns, 'Importance': model.coef_[0]})\n",
    "importance = importance.sort_values(by='Importance', ascending=False)"
   ]
  },
  {
   "cell_type": "code",
   "execution_count": 21,
   "id": "7a6e69d8",
   "metadata": {},
   "outputs": [
    {
     "data": {
      "image/png": "[encoded data removed]",
      "text/plain": [
       "<Figure size 720x576 with 1 Axes>"
      ]
     },
     "metadata": {
      "needs_background": "light"
     },
     "output_type": "display_data"
    },
    {
     "data": {
      "text/plain": [
       "<Figure size 432x288 with 0 Axes>"
      ]
     },
     "metadata": {},
     "output_type": "display_data"
    }
   ],
   "source": [
    "plt.figure(figsize=(10, 8))\n",
    "sns.barplot(x='Importance', y='Feature', data=importance)\n",
    "plt.title('Feature Importance for Customer Churn Prediction')\n",
    "plt.xlabel('Coefficient (Impact on Churn)')\n",
    "plt.ylabel('Feature')\n",
    "plt.tight_layout()\n",
    "plt.show()\n",
    "\n",
    "plt.savefig('feature_importance.png', dpi=300, bbox_inches='tight')\n"
   ]
  },
  {
   "cell_type": "code",
   "execution_count": 20,
   "id": "75407328",
   "metadata": {},
   "outputs": [
    {
     "name": "stdout",
     "output_type": "stream",
     "text": [
      "\n",
      "Business Insights:\n",
      "Churn Rate: 26.54%\n",
      "Key Drivers of Churn (from feature importance):\n",
      "- Positive coefficients (e.g., high MonthlyCharges, Fiber optic): Increase churn likelihood.\n",
      "- Negative coefficients (e.g., long tenure, two-year contracts): Reduce churn likelihood.\n",
      "Actionable Strategy: Offer discounts to customers with high MonthlyCharges or Fiber optic plans to reduce churn.\n",
      "Potential Impact: Reducing churn by 10% could save $X annually (assuming avg. monthly charge of $70).\n"
     ]
    }
   ],
   "source": [
    "# Business Intelligence Insights\n",
    "churn_rate = y.mean() * 100\n",
    "print(f\"\\nBusiness Insights:\")\n",
    "print(f\"Churn Rate: {churn_rate:.2f}%\")\n",
    "print(\"Key Drivers of Churn (from feature importance):\")\n",
    "print(\"- Positive coefficients (e.g., high MonthlyCharges, Fiber optic): Increase churn likelihood.\")\n",
    "print(\"- Negative coefficients (e.g., long tenure, two-year contracts): Reduce churn likelihood.\")\n",
    "print(\"Actionable Strategy: Offer discounts to customers with high MonthlyCharges or Fiber optic plans to reduce churn.\")\n",
    "print(\"Potential Impact: Reducing churn by 10% could save $X annually (assuming avg. monthly charge of $70).\")\n"
   ]
  },
  {
   "cell_type": "code",
   "execution_count": null,
   "id": "2ece6013",
   "metadata": {},
   "outputs": [],
   "source": []
  }
 ],
 "metadata": {
  "kernelspec": {
   "display_name": "Python 3",
   "language": "python",
   "name": "python3"
  },
  "language_info": {
   "codemirror_mode": {
    "name": "ipython",
    "version": 3
   },
   "file_extension": ".py",
   "mimetype": "text/x-python",
   "name": "python",
   "nbconvert_exporter": "python",
   "pygments_lexer": "ipython3",
   "version": "3.8.8"
  }
 },
 "nbformat": 4,
 "nbformat_minor": 5
}
